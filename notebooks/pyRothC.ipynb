{
 "cells": [
  {
   "cell_type": "code",
   "execution_count": 30,
   "id": "940602a8",
   "metadata": {},
   "outputs": [],
   "source": [
    "import pandas as pd\n",
    "import numpy as np\n",
    "from typing import Union\n",
    "\n",
    "\n",
    "from scipy.integrate import odeint\n",
    "import matplotlib.pyplot as plt\n",
    "\n",
    "np.set_printoptions(precision=3,suppress=True )"
   ]
  },
  {
   "cell_type": "code",
   "execution_count": 5,
   "id": "d3129056",
   "metadata": {},
   "outputs": [],
   "source": [
    "Temp=np.array([-0.4, 0.3, 4.2, 8.3, 13.0, 15.9,18.0, 17.5, 13.4, 8.7, 3.9,  0.6])\n",
    "Precip=np.array([49, 39, 44, 41, 61, 58, 71, 58, 51,48, 50, 58])\n",
    "Evp=np.array([12, 18, 35, 58, 82, 90, 97, 84, 54, 31,14, 10])\n",
    "\n",
    "soil_thick=25  #Soil thickness (organic layer topsoil), in cm\n",
    "SOC=69.7       #Soil organic carbon in Mg/ha \n",
    "clay=48        #Percent clay\n",
    "Cinputs=2.7   #Annual C inputs to soil in Mg/ha/yr"
   ]
  },
  {
   "cell_type": "code",
   "execution_count": 41,
   "id": "401c5d7e",
   "metadata": {},
   "outputs": [],
   "source": [
    "class RothC:\n",
    "    def __init__(self, \n",
    "                 years: int = 500, \n",
    "                 ks: np.ndarray = np.array([10, 0.3, 0.66, 0.02, 0]), \n",
    "                 C0: np.ndarray = np.array([0, 0, 0, 0, 2.7]), \n",
    "                 input_carbon: Union[float, np.ndarray] = 1.7, \n",
    "                 farmyard_manure: Union[float, np.ndarray] = 0, \n",
    "                 clay: float = 23.4, \n",
    "                 DR: float = 1.44,  # ratio DPM/RPM\n",
    "                 xi:float = 1., \n",
    "                 solver: str = 'euler'):\n",
    "        self.years = np.arange(1/12,years,step=1/12) \n",
    "        self.t = self.years\n",
    "        self.ks_pulls = [\"DPM\",\"RPM\", \"BIO\", \"HUM\",\"IOM\"]\n",
    "        if len(ks) != 5: \n",
    "            raise ValueError(\"ks must be of length = 5\")\n",
    "        self.ks = ks\n",
    "        if len(C0) != 5: \n",
    "            raise ValueError(\"the vector with initial conditions must be of length = 5\")\n",
    "        self.C0 = C0\n",
    "        self.farmyard_manure = farmyard_manure\n",
    "        self.input_carbon = input_carbon\n",
    "        self.clay = clay\n",
    "        self.DR = DR\n",
    "        self.xi = xi # stress factor by Soil Moisture * Temperature\n",
    "        self.solver = solver\n",
    "        t_start = min(self.t)\n",
    "        t_end   = max(self.t)\n",
    "\n",
    "    def fT(self, temperature: list) -> list:\n",
    "        stress_coef = []\n",
    "        for x in temperature:\n",
    "            if x < -18.3:\n",
    "                stress_coef.append(np.nan)\n",
    "            else:\n",
    "                stress_coef.append(47.9 / (1 + np.exp(106 / (x + 18.3))))\n",
    "        return stress_coef\n",
    "        \n",
    "    \n",
    "    def fW(self,\n",
    "        precip: np.ndarray,\n",
    "        evaporation: np.ndarray,\n",
    "        soil_thickness: float,\n",
    "        pE: float = 0.75,\n",
    "        clay: float = 20.0,\n",
    "        bare: bool = True):\n",
    "        \"\"\"\n",
    "        precip - A vector with monthly precipitation (mm).\n",
    "\n",
    "        evaporation - A vector with same length with open pan evaporation or\n",
    "                evapotranspiration (mm).\n",
    "\n",
    "        S.Thick\n",
    "        Soil thickness in cm. Default for Rothamsted is 23 cm.\n",
    "\n",
    "        pClay\n",
    "        Percent clay.\n",
    "\n",
    "        pE\n",
    "        Evaporation coefficient. If open pan evaporation is used pE=0.75. If Potential evaporation is used, pE=1.0.\n",
    "\n",
    "        bare\n",
    "        Logical. Under bare soil conditions, bare=TRUE. Default is set under vegetated soil.\n",
    "\n",
    "        \"\"\"\n",
    "        # compute maximum soil moisture defficit \n",
    "        if precip.shape != evaporation.shape:\n",
    "            raise ValueError('Precip and evaporation have different shape')\n",
    "    #     max_smd = -(20.0 + 1.3 * clay - 0.01 * clay**2)\n",
    "        max_smd = -(20.0 + 1.3 * clay - 0.01 * clay**2) * (soil_thickness/23) # TO-DO Verify this soil_thik / 23    \n",
    "        if bare:\n",
    "            max_smd = max_smd/1.8\n",
    "        M = precip - evaporation * pE\n",
    "        acc_TSMD = np.zeros(shape=(len(M)))\n",
    "        if M[0] > 0:\n",
    "            acc_TSMD[0] = 0 \n",
    "        else:\n",
    "            acc_TSMD[0] = M[0]\n",
    "        for i in range(1, len(M)):\n",
    "            if acc_TSMD[i - 1] + M[i] < 0: \n",
    "                acc_TSMD[i] = acc_TSMD[i - 1] + M[i]\n",
    "            else:\n",
    "                acc_TSMD[i] = 0\n",
    "            if acc_TSMD[i] <= max_smd:\n",
    "                acc_TSMD[i] = max_smd\n",
    "        b = np.zeros(shape=acc_TSMD.shape)\n",
    "        mask = acc_TSMD > 0.444 * max_smd\n",
    "        b = 0.2 + 0.8 * ((max_smd - acc_TSMD)/(max_smd - 0.444 * max_smd))\n",
    "        b[mask]=1\n",
    "        return acc_TSMD, b\n",
    "    def get_input_flux(self, input_carbon:float, \n",
    "                      farmyard_manure:float=0, \n",
    "                       DR: float = 1.44)->np.ndarray:\n",
    "        \"\"\"\n",
    "        input_carbon (float): The plant residue input is the amount of carbon that is put into the soil per month\n",
    "        farmyard_manure (float): monthly input of farmyard manure (FYM) (t C ha-1),\n",
    "        DR (float): # ratio DPM/RPM\n",
    "        \"\"\"\n",
    "        gamma = DR/(1+DR)\n",
    "        input_DPM = input_carbon * gamma + (farmyard_manure * 0.49)\n",
    "        input_RPM = input_carbon * (1-gamma) + (farmyard_manure * 0.49)\n",
    "        input_BIO = 0 \n",
    "        input_HUM = farmyard_manure * 0.02 \n",
    "        input_IOM = 0\n",
    "        return np.array([input_DPM, input_RPM, input_BIO, input_HUM, input_IOM])\n"
   ]
  },
  {
   "cell_type": "markdown",
   "id": "4438f4b1",
   "metadata": {},
   "source": [
    "## Main part\n",
    "\n",
    "\\begin{aligned}\n",
    "& \\frac{d \\boldsymbol{C}}{\\mathrm{d} t}=I\\left(\\begin{array}{c}\n",
    "\\gamma \\\\\n",
    "1-\\gamma \\\\\n",
    "0 \\\\\n",
    "0 \\\\\n",
    "0\n",
    "\\end{array}\\right) \n",
    " +\\left(\\begin{array}{ccccc}\n",
    "-k_1 & 0 & 0 & 0 & 0 \\\\\n",
    "0 & -k_2 & 0 & 0 & 0 \\\\\n",
    "a_{3,1} & a_{3,2} & -k_3+a_{3,3} & a_{3,4} & 0 \\\\\n",
    "a_{4,1} & a_{4,2} & a_{4,3} & -k_4+a_{4,4} & 0 \\\\\n",
    "0 & 0 & 0 & 0 & 0\n",
    "\\end{array}\\right)\\left(\\begin{array}{l}\n",
    "C_1 \\\\\n",
    "C_2 \\\\\n",
    "C_3 \\\\\n",
    "C_4 \\\\\n",
    "C_5\n",
    "\\end{array}\\right) \\\\\n",
    "&\n",
    "\\end{aligned}"
   ]
  },
  {
   "cell_type": "code",
   "execution_count": 36,
   "id": "83b65fdc",
   "metadata": {},
   "outputs": [],
   "source": [
    "rothC = RothC()"
   ]
  },
  {
   "cell_type": "code",
   "execution_count": 37,
   "id": "57209198",
   "metadata": {},
   "outputs": [],
   "source": [
    "ks = rothC.ks\n",
    "x=1.67*(1.85+1.60*np.exp(-0.0786*clay))\n",
    "B=0.46/(x+1) \n",
    "H=0.54/(x+1) \n",
    "ai3=B*ks\n",
    "ai4=H*ks\n",
    "A=np.diag(-ks)\n",
    "A[2,]=A[2,]+ai3\n",
    "A[4,]=A[3,]+ai4"
   ]
  },
  {
   "cell_type": "code",
   "execution_count": 38,
   "id": "5d5a5fce",
   "metadata": {},
   "outputs": [],
   "source": [
    "input_carbon = 1.7"
   ]
  },
  {
   "cell_type": "code",
   "execution_count": 42,
   "id": "9d6a06fc",
   "metadata": {},
   "outputs": [],
   "source": [
    "in_flux = rothC.get_input_flux(input_carbon=input_carbon)\n"
   ]
  },
  {
   "cell_type": "code",
   "execution_count": null,
   "id": "d5e301ce",
   "metadata": {},
   "outputs": [],
   "source": []
  },
  {
   "cell_type": "code",
   "execution_count": 43,
   "id": "aa27044d",
   "metadata": {},
   "outputs": [
    {
     "data": {
      "text/plain": [
       "array([[1.003, 0.697, 0.   , 0.   , 0.   ],\n",
       "       [1.003, 0.697, 0.   , 0.   , 0.   ],\n",
       "       [1.003, 0.697, 0.   , 0.   , 0.   ],\n",
       "       [1.003, 0.697, 0.   , 0.   , 0.   ],\n",
       "       [1.003, 0.697, 0.   , 0.   , 0.   ]])"
      ]
     },
     "execution_count": 43,
     "metadata": {},
     "output_type": "execute_result"
    }
   ],
   "source": [
    "in_flux + A * rothC.C0"
   ]
  },
  {
   "cell_type": "code",
   "execution_count": 10,
   "id": "4a1ec310",
   "metadata": {},
   "outputs": [
    {
     "data": {
      "image/png": "[encoded data removed]",
      "text/plain": [
       "<Figure size 432x288 with 1 Axes>"
      ]
     },
     "metadata": {
      "needs_background": "light"
     },
     "output_type": "display_data"
    }
   ],
   "source": [
    "import numpy as np\n",
    "from scipy.integrate import odeint\n",
    "import matplotlib.pyplot as plt\n",
    "\n",
    "# function that returns dy/dt\n",
    "def model(y,t,k):\n",
    "    dydt = -k * y\n",
    "    return dydt\n",
    "\n",
    "# initial condition\n",
    "y0 = 5\n",
    "\n",
    "# time points\n",
    "t = np.linspace(0,20)\n",
    "\n",
    "# solve ODEs\n",
    "k = 0.1\n",
    "y1 = odeint(model,y0,t,args=(k,))\n",
    "k = 0.2\n",
    "y2 = odeint(model,y0,t,args=(k,))\n",
    "k = 0.5\n",
    "y3 = odeint(model,y0,t,args=(k,))\n",
    "\n",
    "# plot results\n",
    "plt.plot(t,y1,'r-',linewidth=2,label='k=0.1')\n",
    "plt.plot(t,y2,'b--',linewidth=2,label='k=0.2')\n",
    "plt.plot(t,y3,'g:',linewidth=2,label='k=0.5')\n",
    "plt.xlabel('time')\n",
    "plt.ylabel('y(t)')\n",
    "plt.legend()\n",
    "plt.show()"
   ]
  },
  {
   "cell_type": "code",
   "execution_count": 8,
   "id": "4fb67978",
   "metadata": {},
   "outputs": [],
   "source": [
    "rothC = RothC()\n",
    "stress_temp = rothC.fT(temperature=Temp)\n",
    "acc_TSMD, b = rothC.fW(precip=Precip, evaporation=Evp,\n",
    "                       pE=1.0,\n",
    "                       bare=False,\n",
    "                       clay = 48,\n",
    "                       soil_thickness=25)\n",
    "\n"
   ]
  },
  {
   "cell_type": "code",
   "execution_count": null,
   "id": "b293de0f",
   "metadata": {},
   "outputs": [],
   "source": [
    "\n",
    "\n"
   ]
  },
  {
   "cell_type": "markdown",
   "id": "ad0ffe0d",
   "metadata": {},
   "source": [
    "## F(T)"
   ]
  },
  {
   "cell_type": "code",
   "execution_count": 227,
   "id": "5dc87957",
   "metadata": {},
   "outputs": [
    {
     "data": {
      "text/plain": [
       "[<matplotlib.lines.Line2D at 0x136a9fc40>]"
      ]
     },
     "execution_count": 227,
     "metadata": {},
     "output_type": "execute_result"
    },
    {
     "data": {
      "image/png": "[encoded data removed]",
      "text/plain": [
       "<Figure size 432x288 with 1 Axes>"
      ]
     },
     "metadata": {
      "needs_background": "light"
     },
     "output_type": "display_data"
    }
   ],
   "source": [
    "plt.plot([0.1280481, 0.1599085, 0.4270090, 0.8743546, 1.5671668, 2.0659933, 2.4509640, \n",
    " 2.3578371, 1.6332549,0.9264990, 0.4008918, 0.1749929])\n",
    "plt.plot(stress_temp)"
   ]
  },
  {
   "cell_type": "markdown",
   "id": "2c394e6c",
   "metadata": {},
   "source": [
    "## F(W)"
   ]
  },
  {
   "cell_type": "code",
   "execution_count": 228,
   "id": "ee218804",
   "metadata": {},
   "outputs": [
    {
     "data": {
      "text/plain": [
       "<matplotlib.legend.Legend at 0x136b43f10>"
      ]
     },
     "execution_count": 228,
     "metadata": {},
     "output_type": "execute_result"
    },
    {
     "data": {
      "image/png": "[encoded data removed]",
      "text/plain": [
       "<Figure size 432x288 with 1 Axes>"
      ]
     },
     "metadata": {
      "needs_background": "light"
     },
     "output_type": "display_data"
    }
   ],
   "source": [
    "true_vals = [1.00, 1.00, 1.00, 1.00, \n",
    "0.7914406, 0.200, 0.200, 0.200, 0.200,\n",
    "0.5791037, 1.00, 1.00]\n",
    "\n",
    "plt.plot(true_vals, label = 'True')\n",
    "plt.plot(b, label='Mine')\n",
    "plt.legend()"
   ]
  },
  {
   "cell_type": "code",
   "execution_count": 230,
   "id": "f91aa2a9",
   "metadata": {},
   "outputs": [
    {
     "data": {
      "text/plain": [
       "[<matplotlib.lines.Line2D at 0x136a4e7f0>]"
      ]
     },
     "execution_count": 230,
     "metadata": {},
     "output_type": "execute_result"
    },
    {
     "data": {
      "image/png": "[encoded data removed]",
      "text/plain": [
       "<Figure size 432x288 with 1 Axes>"
      ]
     },
     "metadata": {
      "needs_background": "light"
     },
     "output_type": "display_data"
    }
   ],
   "source": [
    "true_vals = [0.1280481, 0.1599085,\n",
    "             0.4270090, 0.8743546, \n",
    "             1.2403194, 0.4131987,\n",
    "             0.4901928, 0.4715674,\n",
    "             0.3266510,0.5365390,\n",
    "             0.4008918, 0.1749929]\n",
    "plt.plot(stress_temp * b ,label='Mine')\n",
    "plt.plot(true_vals, label='True')\n",
    "\n"
   ]
  },
  {
   "cell_type": "code",
   "execution_count": 182,
   "id": "c7056bb7",
   "metadata": {},
   "outputs": [
    {
     "data": {
      "text/plain": [
       "<__main__.RothC at 0x136971d60>"
      ]
     },
     "execution_count": 182,
     "metadata": {},
     "output_type": "execute_result"
    }
   ],
   "source": [
    "rothC."
   ]
  },
  {
   "cell_type": "code",
   "execution_count": 154,
   "id": "9bde81c8",
   "metadata": {},
   "outputs": [
    {
     "data": {
      "text/plain": [
       "0.5901639344262295"
      ]
     },
     "execution_count": 154,
     "metadata": {},
     "output_type": "execute_result"
    }
   ],
   "source": [
    "gamma = DR/(1+DR)\n",
    "y"
   ]
  },
  {
   "cell_type": "code",
   "execution_count": 159,
   "id": "dbdec525",
   "metadata": {},
   "outputs": [
    {
     "name": "stdout",
     "output_type": "stream",
     "text": [
      "input_DPM 1.0032786885245901\n",
      "input_RPM 0.6967213114754098\n",
      "input_RPM_init 0.6967213114754098\n"
     ]
    }
   ],
   "source": [
    "DR = 1.44\n",
    "input_carbon = 1.7\n",
    "farmyard_manure = 0\n",
    "\n",
    "gamma = DR/(1+DR)\n",
    "input_DPM = input_carbon * gamma + (farmyard_manure * 0.49)\n",
    "input_RPM = input_carbon * (1-gamma) + (farmyard_manure * 0.49)\n",
    "\n",
    "\n",
    "input_RPM_init = input_carbon * (1-gamma) + (farmyard_manure * 0.49)\n",
    "print('input_RPM_init', input_RPM_init)"
   ]
  },
  {
   "cell_type": "code",
   "execution_count": null,
   "id": "dc7ceee6",
   "metadata": {},
   "outputs": [],
   "source": []
  }
 ],
 "metadata": {
  "kernelspec": {
   "display_name": "Python 3 (ipykernel)",
   "language": "python",
   "name": "python3"
  },
  "language_info": {
   "codemirror_mode": {
    "name": "ipython",
    "version": 3
   },
   "file_extension": ".py",
   "mimetype": "text/x-python",
   "name": "python",
   "nbconvert_exporter": "python",
   "pygments_lexer": "ipython3",
   "version": "3.8.10"
  }
 },
 "nbformat": 4,
 "nbformat_minor": 5
}
